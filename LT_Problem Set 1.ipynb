{
 "cells": [
  {
   "cell_type": "markdown",
   "metadata": {},
   "source": [
    "# Problem Set 1 \n",
    "By: Leslie Trigoura\n"
   ]
  },
  {
   "cell_type": "markdown",
   "metadata": {},
   "source": [
    "1.  Consider an electron in a 1-D box of length $L=1$ nm that has energy eigenstates given by \n",
    "\\begin{equation}\n",
    "\\psi_n(x) = \\sqrt{2} {\\rm sin}(n \\pi x)\n",
    "\\end{equation}\n",
    "when $x$ has units of nanometers.  Now consider that an atomically-precise hammer is used to deform the bottom of the box such that the electron feels an effective potential given by \n",
    "\\begin{equation}\n",
    "V(x) = V(x)= -2(x-0.5)^3+0.5.\n",
    "\\end{equation}\n",
    "\n",
    "    a.  Compute the energy expectation value of an electron described by $\\psi_1(x)$ after the box is deformed.\n",
    "\n"
   ]
  },
  {
   "cell_type": "markdown",
   "metadata": {},
   "source": [
    "# Answer to Question 1a:"
   ]
  },
  {
   "cell_type": "code",
   "execution_count": 2,
   "metadata": {},
   "outputs": [
    {
     "name": "stdout",
     "output_type": "stream",
     "text": [
      "E1 is equal to 6.024658153557057e-20 J\n"
     ]
    }
   ],
   "source": [
    "import numpy as np\n",
    "\n",
    "# Length = 1nm (SI Units)\n",
    "L = 1e-9\n",
    "\n",
    "# Mass of Electron (SI Units) # Google mass\n",
    "m_e = 9.10938356e-31\n",
    "\n",
    "# hbar (SI Units) \n",
    "hbar = 1.054571e-34\n",
    "\n",
    "# E1 (SI Units)\n",
    "E1 = np.pi **2 * hbar**2 / (2 * m_e * L**2)\n",
    "\n",
    "print(\"E1 is equal to\", E1, \"J\")\n"
   ]
  },
  {
   "cell_type": "markdown",
   "metadata": {},
   "source": [
    "**NOTE: PDF Document has rest of calculations for Question #1!**"
   ]
  },
  {
   "cell_type": "markdown",
   "metadata": {},
   "source": [
    " b.  Explain if you think the original energy eigenstates, $\\psi_n(x)$, are stationary \n",
    "states in the deformed box.  "
   ]
  },
  {
   "cell_type": "markdown",
   "metadata": {},
   "source": [
    "# Answer to Question 1b:\n",
    "\n",
    "Answer on PDF submitted. "
   ]
  },
  {
   "cell_type": "markdown",
   "metadata": {},
   "source": [
    "2.  Considering the modified box in Question 1, write down the Hamiltonian operator after the box has been modified.  Using this Hamiltonian, use the linear variational method and a basis of the first 3 energy eigenstates of the ordinary particle in a box to estimate the ground state energy of the modified system."
   ]
  },
  {
   "cell_type": "code",
   "execution_count": 36,
   "metadata": {},
   "outputs": [
    {
     "name": "stdout",
     "output_type": "stream",
     "text": [
      "[[ 5.00000000e-10  1.48162869e-27  1.94817089e-26]\n",
      " [-4.69863798e-26  5.00000000e-10 -3.70149314e-26]\n",
      " [ 3.88687545e-26 -2.40902343e-26  5.00000000e-10]]\n",
      "Est. Ground State Energy is equal to  4.999999999999998e-10 J\n"
     ]
    }
   ],
   "source": [
    "# Same variables as above in question 1...\n",
    "m = m_e # from above, simplified\n",
    "x = np.linspace (0, L, 400)\n",
    "\n",
    "V_x = - 2 * (x - 0.5e-9)**3 + 0.5e-9\n",
    "\n",
    "def H_ij (i, j, x_array):\n",
    "    dx = x_array[1] - x_array[0]\n",
    "    # define 1st part of equation (diagonalized)\n",
    "    psi_ii = np.sqrt(2 / L) * np.sin (i * np.pi * x_array / L)\n",
    "    # define 2nd part of equation (out of diagonal)\n",
    "    psi_ij = np.sqrt(2 / L) * np.sin (j * np.pi * x_array / L)\n",
    "    \n",
    "    G = psi_ii * V_x * psi_ij # Use G to represent integrand\n",
    "    V_int = 0\n",
    "    \n",
    "    # Use rectangle rule approx. like in class...\n",
    "    for i in range (0,len(x_array)):\n",
    "        V_int = V_int + G[i] * dx\n",
    "     \n",
    "    if (i==j):\n",
    "        E_i = np.pi**2 * hbar**2 * i**2 / (2* m *L**2)\n",
    "    else:\n",
    "        E_i = 0\n",
    "        \n",
    "    return (E_i + V_int)\n",
    "\n",
    "H_mat = np.zeros ((3,3))\n",
    "for i in range (1,4):\n",
    "    for j in range (1,4): \n",
    "        H_mat [i-1][j-1] = H_ij (i,j, x)        \n",
    "print (H_mat)\n",
    "\n",
    "E_opt, c_opt = np.linalg.eig(H_mat)\n",
    "    \n",
    "    \n",
    "print(\"Est. Ground State Energy is equal to \", np.min(E_opt), \"J\")\n",
    "\n",
    "    "
   ]
  },
  {
   "cell_type": "markdown",
   "metadata": {},
   "source": [
    "3.  The predecessor to Hartree-Fock theory was the Hartree method, where the main difference is that the Hartree-Fock method includes anti-symmetry in the trial wavefunction by writing it as a Slater Determinant, while the Hartree method uses a simple product wavefunction that does not capture anti-symmetry.  In particular, for a minimal-basis model of H$_2$, the Hatree method's trial wavefunction is given by\n",
    "\\begin{equation}\n",
    "\\Psi_H = \\phi_1(x_1) \\phi_2(x_2)\n",
    "\\end{equation}\n",
    "while the Hartree-Fock trial wavefunction is given by \n",
    "\\begin{equation}\n",
    "\\Psi_{HF} = \\phi_1(x_1) \\phi_2(x_2) - \\phi_1(x_2) \\phi_2(x_1),\n",
    "\\end{equation}\n",
    "where $\\phi_1$ and $\\phi_2$ are molecular orbitals, and $x_1$ and $x_2$ denote the coordinates\n",
    "of electron 1 and electron 2, respectively.\n",
    "\n",
    "    Write an expression for the total energy expectation values of $\\Psi_H$ and $\\Psi_{HF}$ in terms of 1- and 2-electron integrals and comment on the differences.  In particular, which method do you think will yield the lower total energy?  Recall the Hamiltonian operator can be written in terms of 1- and 2-electron operators as\n",
    "\\begin{equation}\n",
    "\\hat{H} = \\sum_{i}^N \\hat{h}_i + \\sum_{i>j}^N \\hat{V}_{i,j},\n",
    "\\end{equation}\n",
    "    where $\\hat{h}_i$ is the 1-electron operator for electron $i$ and $\\hat{V}_{i,j}$ is the 2-electron operator for electrons $i$ and $j$."
   ]
  },
  {
   "cell_type": "markdown",
   "metadata": {},
   "source": [
    "4. Use the following function as a trial wavefunction for the particle-in-a-box groundstate:\n",
    "\\begin{equation}\n",
    "\\phi(x) = c_1 x (L - x) + c_2 x (L-x)^2 + c_3 x^4(L-x) + c_4 x^2(L-x)^2.\n",
    "\\end{equation}\n",
    "Compare the energy expectation value of $\\phi(x)$ to $\\psi_1(x)$, the true ground state of the particle in a box of length $L$.  Discuss whether or not this result is consistent with the Variational principle."
   ]
  },
  {
   "cell_type": "markdown",
   "metadata": {},
   "source": [
    "5.  The energy expression for second-order Moller-Plesset Perturbation Theory is \n",
    "\\begin{equation}\n",
    "E_{MP2} = 2 \\sum_{i,j,a,b}^N \\frac{\\langle ij | V | ab \\rangle \\langle ab | V | ij \\rangle}{\\epsilon_i + \\epsilon_j - \\epsilon_a - \\epsilon_b} - \\sum_{i,j,a,b}^N \\frac{\\langle ij | V | ab \\rangle \\langle ab | V | ji \\rangle}{\\epsilon_i + \\epsilon_j - \\epsilon_a - \\epsilon_b}\n",
    "\\end{equation}\n",
    "where $N$ is the number of molecular orbitals, $\\epsilon_p$ is the molecular orbital energy\n",
    "of orbital $p$, and $\\langle pq | V | rs \\rangle$ is the 2-electron integral\n",
    "involving orbitals $\\phi_p, \\phi_q, \\phi_r$, and $\\phi_s$.  \n",
    "\n",
    "**Explain how the computational cost of evaluating the MP2 energy scales with the number of molecular orbitals.**  "
   ]
  },
  {
   "cell_type": "code",
   "execution_count": null,
   "metadata": {},
   "outputs": [],
   "source": []
  }
 ],
 "metadata": {
  "kernelspec": {
   "display_name": "Python 3",
   "language": "python",
   "name": "python3"
  },
  "language_info": {
   "codemirror_mode": {
    "name": "ipython",
    "version": 3
   },
   "file_extension": ".py",
   "mimetype": "text/x-python",
   "name": "python",
   "nbconvert_exporter": "python",
   "pygments_lexer": "ipython3",
   "version": "3.7.4"
  }
 },
 "nbformat": 4,
 "nbformat_minor": 2
}
